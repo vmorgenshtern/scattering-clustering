{
 "cells": [
  {
   "cell_type": "markdown",
   "metadata": {},
   "source": [
    "# SVM Classification\n",
    "\n",
    "In this notebook, we investigate the effect of SVM classification using scattering features. Furthermore, we apply the POC algorithm as a preprocessing step to the classification"
   ]
  },
  {
   "cell_type": "code",
   "execution_count": 1,
   "metadata": {},
   "outputs": [],
   "source": [
    "import os\n",
    "import sys\n",
    "from tqdm import tqdm\n",
    "import warnings\n",
    "warnings.filterwarnings('ignore')\n",
    "\n",
    "import numpy as np\n",
    "import torch\n",
    "import kymatio as km\n",
    "from  matplotlib import pyplot as plt\n",
    "from sklearn.svm import SVC\n",
    "\n",
    "sys.path.append(\"..\")\n",
    "\n",
    "from lib.data.data_loading import ClassificationDataset\n",
    "from lib.data.data_processing import convert_images_to_scat, convert_loader_to_scat\n",
    "from lib.utils.visualizations import display_subset_data, visualize_accuracy_landscape\n",
    "from lib.clustering.uspec import USPEC\n",
    "from lib.projections.POC import POC\n",
    "from CONFIG import CONFIG"
   ]
  },
  {
   "cell_type": "code",
   "execution_count": 2,
   "metadata": {},
   "outputs": [],
   "source": [
    "%load_ext autoreload\n",
    "%autoreload 2"
   ]
  },
  {
   "cell_type": "code",
   "execution_count": 3,
   "metadata": {},
   "outputs": [],
   "source": [
    "DEVICE = torch.device(\"cuda\" if torch.cuda.is_available() else \"cpu\")\n",
    "ROOT_PATH = os.path.dirname(os.path.dirname(os.getcwd()))\n",
    "DATA_PATH = os.path.join(ROOT_PATH, \"data\")\n",
    "\n",
    "DATASET = \"mnist\""
   ]
  },
  {
   "cell_type": "markdown",
   "metadata": {},
   "source": [
    "## Dataset and Scattering"
   ]
  },
  {
   "cell_type": "code",
   "execution_count": 4,
   "metadata": {},
   "outputs": [],
   "source": [
    "# loading all mnist data\n",
    "dataset = ClassificationDataset(data_path=DATA_PATH, dataset_name=DATASET, valid_size=0.25) \n",
    "train_loader = dataset.get_data_loader(split=\"train\", batch_size=128)\n",
    "valid_loader = dataset.get_data_loader(split=\"valid\", batch_size=128)\n",
    "test_loader = dataset.get_data_loader(split=\"test\", batch_size=128)"
   ]
  },
  {
   "cell_type": "code",
   "execution_count": 5,
   "metadata": {},
   "outputs": [],
   "source": [
    "# defining the scattering network\n",
    "J = 3  # spatial field of the kernel is 2**J \n",
    "L = 6  # number of angles in the kernel\n",
    "shape = (32,32)  # shape of the input images\n",
    "max_order = 2 # depth of the network\n",
    "scattering_layer = km.Scattering2D(J=J, shape=shape, max_order=max_order, L=L)\n",
    "if DEVICE.type == 'cuda':\n",
    "    scattering_layer = scattering_layer.cuda()"
   ]
  },
  {
   "cell_type": "code",
   "execution_count": 6,
   "metadata": {},
   "outputs": [
    {
     "name": "stderr",
     "output_type": "stream",
     "text": [
      "  0%|          | 0/352 [00:00<?, ?it/s]"
     ]
    },
    {
     "name": "stdout",
     "output_type": "stream",
     "text": [
      "Processing train-set images...\n"
     ]
    },
    {
     "name": "stderr",
     "output_type": "stream",
     "text": [
      "100%|██████████| 352/352 [00:45<00:00,  7.78it/s]\n",
      "  0%|          | 0/118 [00:00<?, ?it/s]"
     ]
    },
    {
     "name": "stdout",
     "output_type": "stream",
     "text": [
      "Processing valid-set images...\n"
     ]
    },
    {
     "name": "stderr",
     "output_type": "stream",
     "text": [
      "100%|██████████| 118/118 [00:16<00:00,  7.19it/s]\n",
      "  0%|          | 0/79 [00:00<?, ?it/s]"
     ]
    },
    {
     "name": "stdout",
     "output_type": "stream",
     "text": [
      "Processing test-set images...\n"
     ]
    },
    {
     "name": "stderr",
     "output_type": "stream",
     "text": [
      "100%|██████████| 79/79 [00:11<00:00,  7.10it/s]\n"
     ]
    }
   ],
   "source": [
    "# computing the scattering transform of all images\n",
    "print(\"Processing train-set images...\")\n",
    "train_imgs, train_scat_features,\\\n",
    "    train_labels = convert_loader_to_scat(train_loader, scattering=scattering_layer, \n",
    "                                          device=DEVICE, equalize=True, verbose=1)\n",
    "print(\"Processing valid-set images...\")\n",
    "valid_imgs, valid_scat_features,\\\n",
    "    valid_labels = convert_loader_to_scat(valid_loader, scattering=scattering_layer,\n",
    "                                          device=DEVICE, equalize=True, verbose=1)\n",
    "print(\"Processing test-set images...\")\n",
    "test_imgs, test_scat_features,\\\n",
    "    test_labels = convert_loader_to_scat(test_loader, scattering=scattering_layer,\n",
    "                                         device=DEVICE, equalize=True, verbose=1)"
   ]
  },
  {
   "cell_type": "markdown",
   "metadata": {},
   "source": [
    "## POC Preprocessing"
   ]
  },
  {
   "cell_type": "code",
   "execution_count": 7,
   "metadata": {},
   "outputs": [],
   "source": [
    "poc = POC()\n",
    "poc.fit(data=train_scat_features)\n",
    "proj_train_scat = poc.transform(data=train_scat_features, n_dims=2)\n",
    "proj_valid_scat = poc.transform(data=valid_scat_features, n_dims=2)\n",
    "proj_test_scat = poc.transform(data=test_scat_features, n_dims=2)"
   ]
  },
  {
   "cell_type": "markdown",
   "metadata": {},
   "source": [
    "## SVM Training"
   ]
  },
  {
   "cell_type": "code",
   "execution_count": 8,
   "metadata": {},
   "outputs": [],
   "source": [
    "svm =  SVC(C=10, kernel=\"rbf\")\n",
    "svm_proj =  SVC(C=10, kernel=\"rbf\")"
   ]
  },
  {
   "cell_type": "code",
   "execution_count": 11,
   "metadata": {},
   "outputs": [
    {
     "data": {
      "text/plain": [
       "SVC(C=10, cache_size=200, class_weight=None, coef0=0.0,\n",
       "    decision_function_shape='ovr', degree=3, gamma='auto_deprecated',\n",
       "    kernel='rbf', max_iter=-1, probability=False, random_state=None,\n",
       "    shrinking=True, tol=0.001, verbose=False)"
      ]
     },
     "execution_count": 11,
     "metadata": {},
     "output_type": "execute_result"
    }
   ],
   "source": [
    "valid_scat_features_fit = valid_scat_features.reshape(valid_scat_features.shape[0], -1)\n",
    "svm.fit(valid_scat_features_fit, valid_labels)"
   ]
  },
  {
   "cell_type": "code",
   "execution_count": 12,
   "metadata": {},
   "outputs": [
    {
     "data": {
      "text/plain": [
       "SVC(C=10, cache_size=200, class_weight=None, coef0=0.0,\n",
       "    decision_function_shape='ovr', degree=3, gamma='auto_deprecated',\n",
       "    kernel='rbf', max_iter=-1, probability=False, random_state=None,\n",
       "    shrinking=True, tol=0.001, verbose=False)"
      ]
     },
     "execution_count": 12,
     "metadata": {},
     "output_type": "execute_result"
    }
   ],
   "source": [
    "svm_proj.fit(proj_valid_scat, valid_labels)"
   ]
  },
  {
   "cell_type": "markdown",
   "metadata": {},
   "source": [
    "## SVM Evaluating"
   ]
  },
  {
   "cell_type": "code",
   "execution_count": 13,
   "metadata": {},
   "outputs": [
    {
     "data": {
      "text/plain": [
       "0.9775"
      ]
     },
     "execution_count": 13,
     "metadata": {},
     "output_type": "execute_result"
    }
   ],
   "source": [
    "test_scat_features_fit = test_scat_features.reshape(test_scat_features.shape[0], -1)\n",
    "svm.score(test_scat_features_fit, test_labels)"
   ]
  },
  {
   "cell_type": "code",
   "execution_count": 15,
   "metadata": {},
   "outputs": [
    {
     "data": {
      "text/plain": [
       "0.9731"
      ]
     },
     "execution_count": 15,
     "metadata": {},
     "output_type": "execute_result"
    }
   ],
   "source": [
    "svm_proj.score(proj_test_scat, test_labels)"
   ]
  },
  {
   "cell_type": "code",
   "execution_count": null,
   "metadata": {},
   "outputs": [],
   "source": []
  },
  {
   "cell_type": "code",
   "execution_count": null,
   "metadata": {},
   "outputs": [],
   "source": []
  },
  {
   "cell_type": "code",
   "execution_count": null,
   "metadata": {},
   "outputs": [],
   "source": []
  }
 ],
 "metadata": {
  "kernelspec": {
   "display_name": "Python 3",
   "language": "python",
   "name": "python3"
  },
  "language_info": {
   "codemirror_mode": {
    "name": "ipython",
    "version": 3
   },
   "file_extension": ".py",
   "mimetype": "text/x-python",
   "name": "python",
   "nbconvert_exporter": "python",
   "pygments_lexer": "ipython3",
   "version": "3.7.4"
  }
 },
 "nbformat": 4,
 "nbformat_minor": 4
}
