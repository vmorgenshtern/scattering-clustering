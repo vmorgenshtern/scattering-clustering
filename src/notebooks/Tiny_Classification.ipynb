{
 "cells": [
  {
   "cell_type": "markdown",
   "metadata": {},
   "source": [
    "# Tiny MNIST Classification\n",
    "\n",
    "In the POC_Classification notebook we show how we can achieve beyond 99% accuracy on the MNIST test set using our POC algorithm.\n",
    "\n",
    "In this notebook, we build on top of those results, and show that the POC algorithm can perform handwritten digit classification with ultra-small training sets. For this purpose, we use reduced versions of the MNIST datasetd, denoted as **RMNIST/N**, which containe N examples of each of the MNIST classes, e.g., RMNIST/1 contains only one image for each class (10 images in total)."
   ]
  },
  {
   "cell_type": "code",
   "execution_count": 1,
   "metadata": {},
   "outputs": [],
   "source": [
    "import os\n",
    "import sys\n",
    "from tqdm import tqdm\n",
    "import warnings\n",
    "warnings.filterwarnings('ignore')\n",
    "\n",
    "import numpy as np\n",
    "import torch\n",
    "import kymatio as km\n",
    "from  matplotlib import pyplot as plt\n",
    "\n",
    "sys.path.append(\"..\")\n",
    "\n",
    "from lib.data.data_loading import ClassificationDataset\n",
    "from lib.data.reduced_dataset import ReducedDataset\n",
    "from lib.data.data_processing import convert_images_to_scat\n",
    "from lib.utils.visualizations import display_subset_data, visualize_accuracy_landscape\n",
    "from lib.projections.projection_orthogonal_complement import get_features_all_classes, \\\n",
    "    extract_cluster_features, projections_classifier, optimize_dimensionality\n",
    "from CONFIG import CONFIG"
   ]
  },
  {
   "cell_type": "code",
   "execution_count": 2,
   "metadata": {},
   "outputs": [],
   "source": [
    "%load_ext autoreload\n",
    "%autoreload 2"
   ]
  },
  {
   "cell_type": "code",
   "execution_count": 3,
   "metadata": {},
   "outputs": [],
   "source": [
    "# macros and global variables\n",
    "N_IMGS = 100  # number of images fgor each class in the dataset\n",
    "MAX_DIMS = 300  # maximum nubmer of directions to consider\n",
    "STEP = 20  # step for considering distances (e.g., [5, 10, 15, ...])\n",
    "NUM_EXPS = 5  # number of experiments to average\n",
    "\n",
    "DEVICE = torch.device(\"cuda\" if torch.cuda.is_available() else \"cpu\")\n",
    "ROOT_PATH = os.path.dirname(os.path.dirname(os.getcwd()))\n",
    "DATA_PATH = os.path.join(ROOT_PATH, CONFIG[\"paths\"][\"data_path\"])"
   ]
  },
  {
   "cell_type": "markdown",
   "metadata": {},
   "source": [
    "# 1. Loading the Data"
   ]
  },
  {
   "cell_type": "code",
   "execution_count": 4,
   "metadata": {},
   "outputs": [],
   "source": [
    "# loading all mnist data\n",
    "mnist_dataset = ClassificationDataset(data_path=DATA_PATH, dataset_name=\"mnist\", valid_size=0.25) \n",
    "train_imgs, train_labels = mnist_dataset.train_data, mnist_dataset.train_labels\n",
    "valid_imgs, valid_labels = mnist_dataset.valid_data, mnist_dataset.valid_labels\n",
    "test_imgs, test_labels = mnist_dataset.test_data, mnist_dataset.test_labels"
   ]
  },
  {
   "cell_type": "code",
   "execution_count": 5,
   "metadata": {},
   "outputs": [],
   "source": [
    "# defining the scattering network\n",
    "J = 3  # spatial field of the kernel is 2**J \n",
    "L = 6  # number of angles in the kernel\n",
    "shape = (32,32)  # shape of the input images\n",
    "max_order = 2 # depth of the network\n",
    "scattering_layer = km.Scattering2D(J=J, shape=shape, max_order=max_order, L=L)\n",
    "if DEVICE.type == 'cuda':\n",
    "    scattering_layer = scattering_layer.cuda()"
   ]
  },
  {
   "cell_type": "code",
   "execution_count": 6,
   "metadata": {},
   "outputs": [
    {
     "name": "stdout",
     "output_type": "stream",
     "text": [
      "Processing valid-set images...\n",
      "Processing test-set images...\n"
     ]
    }
   ],
   "source": [
    "# computing the scattering transform of validation and test images\n",
    "print(\"Processing valid-set images...\")\n",
    "valid_scat_features = convert_images_to_scat(images=valid_imgs, scattering=scattering_layer, device=DEVICE, equalize=True)\n",
    "print(\"Processing test-set images...\")\n",
    "test_scat_features = convert_images_to_scat(images=test_imgs, scattering=scattering_layer, device=DEVICE, equalize=True)"
   ]
  },
  {
   "cell_type": "code",
   "execution_count": 7,
   "metadata": {},
   "outputs": [
    {
     "data": {
      "image/png": "[encoded data removed]",
      "text/plain": [
       "<Figure size 2160x288 with 6 Axes>"
      ]
     },
     "metadata": {
      "needs_background": "light"
     },
     "output_type": "display_data"
    }
   ],
   "source": [
    "display_subset_data(imgs=train_imgs, labels=train_labels)"
   ]
  },
  {
   "cell_type": "markdown",
   "metadata": {},
   "source": [
    "# 2. Experiments with N Images per Class"
   ]
  },
  {
   "cell_type": "code",
   "execution_count": 8,
   "metadata": {},
   "outputs": [],
   "source": [
    "reduced_dataset = ReducedDataset(data=train_imgs, labels=train_labels, n_imgs=100)"
   ]
  },
  {
   "cell_type": "markdown",
   "metadata": {},
   "source": [
    "## 2.1 Scattering Transform and Feature Extraction"
   ]
  },
  {
   "cell_type": "code",
   "execution_count": 9,
   "metadata": {},
   "outputs": [],
   "source": [
    "train_imgs = reduced_dataset.data\n",
    "train_labels = reduced_dataset.labels\n",
    "train_scat_features = convert_images_to_scat(images=train_imgs, scattering=scattering_layer, device=DEVICE, equalize=True)\n"
   ]
  },
  {
   "cell_type": "code",
   "execution_count": 10,
   "metadata": {},
   "outputs": [
    {
     "name": "stderr",
     "output_type": "stream",
     "text": [
      "100%|██████████| 10/10 [00:02<00:00,  3.73it/s]\n",
      "100%|██████████| 10/10 [00:44<00:00,  4.49s/it]\n"
     ]
    }
   ],
   "source": [
    "cluster_ids = np.arange(10).tolist()\n",
    "\n",
    "# extracting features for the data in the pixel domain\n",
    "img_classwise_data, img_prototypes,\\\n",
    "    img_eigenvectors = get_features_all_classes(data=train_imgs, labels=train_labels, verbose=1,\n",
    "                                                cluster_ids=cluster_ids, standarize=False)\n",
    "\n",
    "# extracting features for the scattering in the pixel domain\n",
    "scat_classwise_data, scat_prototypes,\\\n",
    "    scat_eigenvectors = get_features_all_classes(data=train_scat_features, labels=train_labels, verbose=1,\n",
    "                                                 cluster_ids=cluster_ids, standarize=False)"
   ]
  },
  {
   "cell_type": "markdown",
   "metadata": {},
   "source": [
    "## 2.2 Parameter Optimization\n"
   ]
  },
  {
   "cell_type": "code",
   "execution_count": 11,
   "metadata": {},
   "outputs": [],
   "source": [
    "direction_candidates = np.arange(0, MAX_DIMS, STEP)"
   ]
  },
  {
   "cell_type": "markdown",
   "metadata": {},
   "source": [
    "### 2.2.1 Optimizing for Raw Images"
   ]
  },
  {
   "cell_type": "code",
   "execution_count": 12,
   "metadata": {},
   "outputs": [
    {
     "name": "stderr",
     "output_type": "stream",
     "text": [
      "100%|██████████| 15/15 [00:37<00:00,  2.50s/it]"
     ]
    },
    {
     "name": "stdout",
     "output_type": "stream",
     "text": [
      "Maximum accuracy was 91.83. It was found removing 40 directions.\n"
     ]
    },
    {
     "name": "stderr",
     "output_type": "stream",
     "text": [
      "\n"
     ]
    }
   ],
   "source": [
    "opt_dims_img, max_acc_img,\\\n",
    "    accuracies_img = optimize_dimensionality(data=valid_imgs, labels=valid_labels,\n",
    "                                             dims=direction_candidates, \n",
    "                                             prototypes=img_prototypes,\n",
    "                                             eigenvectors=img_eigenvectors,\n",
    "                                             verbose=1)"
   ]
  },
  {
   "cell_type": "code",
   "execution_count": 13,
   "metadata": {},
   "outputs": [
    {
     "name": "stderr",
     "output_type": "stream",
     "text": [
      "100%|██████████| 21/21 [00:55<00:00,  2.63s/it]"
     ]
    },
    {
     "name": "stdout",
     "output_type": "stream",
     "text": [
      "Maximum accuracy was 91.88. It was found removing 41 directions.\n"
     ]
    },
    {
     "name": "stderr",
     "output_type": "stream",
     "text": [
      "\n"
     ]
    }
   ],
   "source": [
    "min_dims = max(0, opt_dims_img - 10)\n",
    "max_dims = min(MAX_DIMS, opt_dims_img + 11)\n",
    "fine_direction_candidates = np.arange(min_dims, max_dims)\n",
    "\n",
    "fine_opt_dims_img, fine_max_acc_img,\\\n",
    "    fine_accuracies_img = optimize_dimensionality(data=valid_imgs, labels=valid_labels,\n",
    "                                                  dims=fine_direction_candidates, \n",
    "                                                  prototypes=img_prototypes,\n",
    "                                                  eigenvectors=img_eigenvectors, verbose=1)"
   ]
  },
  {
   "cell_type": "code",
   "execution_count": 14,
   "metadata": {},
   "outputs": [
    {
     "data": {
      "image/png": "[encoded data removed]",
      "text/plain": [
       "<Figure size 1296x360 with 2 Axes>"
      ]
     },
     "metadata": {
      "needs_background": "light"
     },
     "output_type": "display_data"
    }
   ],
   "source": [
    "fig, ax = plt.subplots(1, 2)\n",
    "fig.set_size_inches(18,5)\n",
    "fig.suptitle(\"Accuracy on the image domain using the POC algorithm for different number of removed directions\", fontsize=14)\n",
    "visualize_accuracy_landscape(xaxis=direction_candidates, accuracy=accuracies_img, \n",
    "                             ax=ax[0], xlabel=\"Directions Removed\", ylabel=\"Accuracy\",\n",
    "                             title=\"Accuracy for all tested directions\", grid=True)\n",
    "visualize_accuracy_landscape(xaxis=fine_direction_candidates, accuracy=fine_accuracies_img, \n",
    "                             ax=ax[1], xlabel=\"Directions Removed\", ylabel=\"Accuracy\",\n",
    "                             title=\"Zoomed in on maximum accuracy area\", grid=True)"
   ]
  },
  {
   "cell_type": "markdown",
   "metadata": {},
   "source": [
    "### 2.2.2 Optimizing for the Scattering Domain"
   ]
  },
  {
   "cell_type": "code",
   "execution_count": 15,
   "metadata": {},
   "outputs": [],
   "source": [
    "direction_candidates = np.arange(0, MAX_DIMS, STEP)"
   ]
  },
  {
   "cell_type": "code",
   "execution_count": 16,
   "metadata": {},
   "outputs": [
    {
     "name": "stderr",
     "output_type": "stream",
     "text": [
      "100%|██████████| 15/15 [02:27<00:00,  9.82s/it]"
     ]
    },
    {
     "name": "stdout",
     "output_type": "stream",
     "text": [
      "Maximum accuracy was 97.55. It was found removing 80 directions.\n"
     ]
    },
    {
     "name": "stderr",
     "output_type": "stream",
     "text": [
      "\n"
     ]
    }
   ],
   "source": [
    "opt_dims_scat, max_acc_scat,\\\n",
    "    accuracies_scat = optimize_dimensionality(data=valid_scat_features, labels=valid_labels,\n",
    "                                             dims=direction_candidates, \n",
    "                                             prototypes=scat_prototypes,\n",
    "                                             eigenvectors=scat_eigenvectors,\n",
    "                                             verbose=1)"
   ]
  },
  {
   "cell_type": "code",
   "execution_count": null,
   "metadata": {},
   "outputs": [],
   "source": [
    "min_dims = max(0, opt_dims_scat - 10)\n",
    "max_dims = min(MAX_DIMS, opt_dims_scat + 11)\n",
    "fine_direction_candidates = np.arange(min_dims, max_dims)\n",
    "\n",
    "fine_opt_dims_scat, fine_max_acc_scat,\\\n",
    "    fine_accuracies_scat = optimize_dimensionality(data=valid_scat_features, labels=valid_labels,\n",
    "                                                   dims=fine_direction_candidates, \n",
    "                                                   prototypes=scat_prototypes,\n",
    "                                                   eigenvectors=scat_eigenvectors,\n",
    "                                                   verbose=1)"
   ]
  },
  {
   "cell_type": "code",
   "execution_count": null,
   "metadata": {},
   "outputs": [],
   "source": [
    "fig, ax = plt.subplots(1, 2)\n",
    "fig.set_size_inches(18,5)\n",
    "fig.suptitle(\"Accuracy on the scattering domain using the POC algorithm for different number of removed directions\", fontsize=14)\n",
    "visualize_accuracy_landscape(xaxis=direction_candidates, accuracy=accuracies_scat, \n",
    "                             ax=ax[0], xlabel=\"Directions Removed\", ylabel=\"Accuracy\",\n",
    "                             title=\"Accuracy for all tested directions\", grid=True)\n",
    "visualize_accuracy_landscape(xaxis=fine_direction_candidates, accuracy=fine_accuracies_scat, \n",
    "                             ax=ax[1], xlabel=\"Directions Removed\", ylabel=\"Accuracy\",\n",
    "                             title=\"Zoomed in on maximum accuracy area\", grid=True)"
   ]
  },
  {
   "cell_type": "markdown",
   "metadata": {},
   "source": [
    "## 2.3 Test Set Evaluation"
   ]
  },
  {
   "cell_type": "code",
   "execution_count": null,
   "metadata": {},
   "outputs": [],
   "source": [
    "pred_test_labels_img, _ = projections_classifier(points=test_imgs,\n",
    "                                                 prototypes=img_prototypes,\n",
    "                                                 eigenvectors=img_eigenvectors,\n",
    "                                                 n_directions=fine_opt_dims_img)\n",
    "\n",
    "n_correct_labels_img = len(np.where(pred_test_labels_img == test_labels.numpy())[0])\n",
    "test_set_acc_img = 100 * n_correct_labels_img / len(test_labels)"
   ]
  },
  {
   "cell_type": "code",
   "execution_count": null,
   "metadata": {},
   "outputs": [],
   "source": [
    "pred_test_labels_scat, _ = projections_classifier(points=test_scat_features,\n",
    "                                                  prototypes=scat_prototypes,\n",
    "                                                  eigenvectors=scat_eigenvectors,\n",
    "                                                  n_directions=fine_opt_dims_scat)\n",
    "\n",
    "n_correct_labels_scat = len(np.where(pred_test_labels_scat == test_labels.numpy())[0])\n",
    "test_set_acc_scat = 100 * n_correct_labels_scat / len(test_labels)"
   ]
  },
  {
   "cell_type": "code",
   "execution_count": null,
   "metadata": {},
   "outputs": [],
   "source": [
    "print(f\"Test set accuracy results:\")\n",
    "print(f\"    Img Domain:  {round(test_set_acc_img, 3)}%\")\n",
    "print(f\"    Scat Domain: {round(test_set_acc_scat, 3)}%\")"
   ]
  },
  {
   "cell_type": "markdown",
   "metadata": {},
   "source": [
    "<div class=alert style=\"background-color:#F5F5F5; border-color:#C8C8C8\">\n",
    "   This notebook was created by <b>Angel Villar-Corrales</b>\n",
    "</div> "
   ]
  }
 ],
 "metadata": {
  "kernelspec": {
   "display_name": "Python 3",
   "language": "python",
   "name": "python3"
  },
  "language_info": {
   "codemirror_mode": {
    "name": "ipython",
    "version": 3
   },
   "file_extension": ".py",
   "mimetype": "text/x-python",
   "name": "python",
   "nbconvert_exporter": "python",
   "pygments_lexer": "ipython3",
   "version": "3.7.4"
  }
 },
 "nbformat": 4,
 "nbformat_minor": 4
}
